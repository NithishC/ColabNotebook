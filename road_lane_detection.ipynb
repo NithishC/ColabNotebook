{
  "nbformat": 4,
  "nbformat_minor": 0,
  "metadata": {
    "colab": {
      "name": "road_lane_detection.ipynb",
      "provenance": [],
      "authorship_tag": "ABX9TyOsBm8IjhMD7uHZrsnfBUSM"
    },
    "kernelspec": {
      "name": "python3",
      "display_name": "Python 3"
    }
  },
  "cells": [
    {
      "cell_type": "code",
      "metadata": {
        "id": "wnuwdhHeYhCN",
        "colab_type": "code",
        "colab": {}
      },
      "source": [
        "import matplotlib.pyplot as plt\n",
        "import matplotlib.image as img\n",
        "import numpy as np"
      ],
      "execution_count": 0,
      "outputs": []
    },
    {
      "cell_type": "code",
      "metadata": {
        "id": "mGbiCvvrZgF8",
        "colab_type": "code",
        "colab": {}
      },
      "source": [
        "image = img.imread('test.jpg')"
      ],
      "execution_count": 0,
      "outputs": []
    },
    {
      "cell_type": "code",
      "metadata": {
        "id": "ly2Q8AJDZtJ3",
        "colab_type": "code",
        "colab": {
          "base_uri": "https://localhost:8080/",
          "height": 34
        },
        "outputId": "82255ae9-ca0f-4fdc-d923-92e5e2ac5891"
      },
      "source": [
        "image.shape"
      ],
      "execution_count": 3,
      "outputs": [
        {
          "output_type": "execute_result",
          "data": {
            "text/plain": [
              "(720, 1280, 3)"
            ]
          },
          "metadata": {
            "tags": []
          },
          "execution_count": 3
        }
      ]
    },
    {
      "cell_type": "code",
      "metadata": {
        "id": "LIi4zXVjZ0ah",
        "colab_type": "code",
        "colab": {}
      },
      "source": [
        "y = image.shape[1]\n",
        "x = image.shape[0]\n",
        "copy = np.copy(image)"
      ],
      "execution_count": 0,
      "outputs": []
    },
    {
      "cell_type": "code",
      "metadata": {
        "id": "XzOP_Qh-aLDd",
        "colab_type": "code",
        "colab": {}
      },
      "source": [
        "red = 235\n",
        "blue = 235\n",
        "green = 235"
      ],
      "execution_count": 0,
      "outputs": []
    },
    {
      "cell_type": "code",
      "metadata": {
        "id": "Z63ks8_jabUh",
        "colab_type": "code",
        "colab": {}
      },
      "source": [
        "rgb=[red,green,blue]"
      ],
      "execution_count": 0,
      "outputs": []
    },
    {
      "cell_type": "code",
      "metadata": {
        "id": "p9jWWEWwatgx",
        "colab_type": "code",
        "colab": {}
      },
      "source": [
        "threshold = (image[:,:,0]<rgb[0]) | (image[:,:,1]<rgb[1]) | (image[:,:,2]<rgb[2])"
      ],
      "execution_count": 0,
      "outputs": []
    },
    {
      "cell_type": "code",
      "metadata": {
        "id": "gCVqcLYtbsIN",
        "colab_type": "code",
        "colab": {}
      },
      "source": [
        "copy[threshold] = [0,0,0]"
      ],
      "execution_count": 0,
      "outputs": []
    },
    {
      "cell_type": "code",
      "metadata": {
        "id": "oRBoCX9vb8dL",
        "colab_type": "code",
        "colab": {
          "base_uri": "https://localhost:8080/",
          "height": 257
        },
        "outputId": "7fae7af8-a00a-4e77-d03a-ab9e3f3c3927"
      },
      "source": [
        "plt.imshow(copy)"
      ],
      "execution_count": 9,
      "outputs": [
        {
          "output_type": "execute_result",
          "data": {
            "text/plain": [
              "<matplotlib.image.AxesImage at 0x7f72d8e4ed30>"
            ]
          },
          "metadata": {
            "tags": []
          },
          "execution_count": 9
        },
        {
          "output_type": "display_data",
          "data": {
            "image/png": "[encoded data removed]",
            "text/plain": [
              "<Figure size 432x288 with 1 Axes>"
            ]
          },
          "metadata": {
            "tags": [],
            "needs_background": "light"
          }
        }
      ]
    },
    {
      "cell_type": "code",
      "metadata": {
        "id": "v3dTEa8FcQj3",
        "colab_type": "code",
        "colab": {}
      },
      "source": [
        ""
      ],
      "execution_count": 0,
      "outputs": []
    }
  ]
}