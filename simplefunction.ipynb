{
  "nbformat": 4,
  "nbformat_minor": 0,
  "metadata": {
    "colab": {
      "name": "third.ipynb",
      "provenance": [],
      "authorship_tag": "ABX9TyNg0+VzUvTqnjtjwmnl7nqn",
      "include_colab_link": true
    },
    "kernelspec": {
      "name": "python3",
      "display_name": "Python 3"
    }
  },
  "cells": [
    {
      "cell_type": "markdown",
      "metadata": {
        "id": "view-in-github",
        "colab_type": "text"
      },
      "source": [
        "<a href=\"https://colab.research.google.com/github/NithishC/ColabNotebook/blob/master/simplefunction.ipynb\" target=\"_parent\"><img src=\"https://colab.research.google.com/assets/colab-badge.svg\" alt=\"Open In Colab\"/></a>"
      ]
    },
    {
      "cell_type": "code",
      "metadata": {
        "id": "okHw75ivoGFI",
        "colab_type": "code",
        "colab": {}
      },
      "source": [
        "import matplotlib.pyplot as plt \n",
        "import numpy as np\n",
        "%matplotlib inline"
      ],
      "execution_count": 0,
      "outputs": []
    },
    {
      "cell_type": "code",
      "metadata": {
        "id": "i6zVeFsq7J6_",
        "colab_type": "code",
        "colab": {}
      },
      "source": [
        ""
      ],
      "execution_count": 0,
      "outputs": []
    },
    {
      "cell_type": "markdown",
      "metadata": {
        "id": "HHNe2186MXZa",
        "colab_type": "text"
      },
      "source": [
        "$f(x)=x^3+2x^2+9$"
      ]
    },
    {
      "cell_type": "code",
      "metadata": {
        "id": "ZaMfOPC0MhDi",
        "colab_type": "code",
        "colab": {}
      },
      "source": [
        "def fun(x):\n",
        "  return x**3+2*x**2+9"
      ],
      "execution_count": 0,
      "outputs": []
    },
    {
      "cell_type": "code",
      "metadata": {
        "id": "re4VjVrqNCPz",
        "colab_type": "code",
        "colab": {}
      },
      "source": [
        "x=np.linspace(-5,10,num=1000)"
      ],
      "execution_count": 0,
      "outputs": []
    },
    {
      "cell_type": "code",
      "metadata": {
        "id": "geuXpW1VNepA",
        "colab_type": "code",
        "colab": {
          "base_uri": "https://localhost:8080/",
          "height": 265
        },
        "outputId": "56594fe6-cda1-46d7-b940-e320f11dfbdd"
      },
      "source": [
        "\n",
        "plt.scatter(x,fun(x),c='g',)\n",
        "plt.show()"
      ],
      "execution_count": 8,
      "outputs": [
        {
          "output_type": "display_data",
          "data": {
            "image/png": "[encoded data removed]",
            "text/plain": [
              "<Figure size 432x288 with 1 Axes>"
            ]
          },
          "metadata": {
            "tags": []
          }
        }
      ]
    },
    {
      "cell_type": "code",
      "metadata": {
        "id": "jvEJB8LlNfKp",
        "colab_type": "code",
        "colab": {}
      },
      "source": [
        "def df(x):\n",
        "  return 3*x**2+4*x"
      ],
      "execution_count": 0,
      "outputs": []
    },
    {
      "cell_type": "code",
      "metadata": {
        "id": "bY2g7cbQRcEY",
        "colab_type": "code",
        "colab": {
          "base_uri": "https://localhost:8080/",
          "height": 368
        },
        "outputId": "e338bee8-a72a-47fe-ad25-0afd87f00e65"
      },
      "source": [
        "plt.figure(figsize=[15,5])\n",
        "plt.subplot(1,3,1)\n",
        "plt.title(\"fun\",{'fontsize':50,'color':'Green'})\n",
        "plt.scatter(x,fun(x),c='g',)\n",
        "plt.subplot(1,3,2)\n",
        "plt.title(\"slope fun\",{'fontsize':50,'color':'Red'})\n",
        "plt.scatter(x,df(x),c='r')\n",
        "plt.show()"
      ],
      "execution_count": 26,
      "outputs": [
        {
          "output_type": "display_data",
          "data": {
            "image/png": "[encoded data removed]",
            "text/plain": [
              "<Figure size 1080x360 with 2 Axes>"
            ]
          },
          "metadata": {
            "tags": []
          }
        }
      ]
    },
    {
      "cell_type": "code",
      "metadata": {
        "id": "N-AuM2HiSW-i",
        "colab_type": "code",
        "colab": {}
      },
      "source": [
        ""
      ],
      "execution_count": 0,
      "outputs": []
    }
  ]
}